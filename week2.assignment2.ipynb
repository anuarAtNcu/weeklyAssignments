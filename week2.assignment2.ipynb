{
 "cells": [
  {
   "cell_type": "code",
   "execution_count": 1,
   "id": "9600728a-e76a-4275-870e-474179707a34",
   "metadata": {},
   "outputs": [],
   "source": [
    "import numpy as np\n",
    "import pandas as pd\n",
    "import matplotlib as plt\n",
    "import seaborn as sns\n",
    "import statsmodels.api as sm\n",
    "from statsmodels.formula.api import ols"
   ]
  },
  {
   "cell_type": "code",
   "execution_count": 2,
   "id": "4e1c069e-9903-47e7-aee8-1ff0bd9b9ef6",
   "metadata": {},
   "outputs": [],
   "source": [
    "# Question #3: Conceptual part"
   ]
  },
  {
   "cell_type": "code",
   "execution_count": 3,
   "id": "e6ed547e-df36-4f41-b480-e14f45991291",
   "metadata": {},
   "outputs": [
    {
     "name": "stdout",
     "output_type": "stream",
     "text": [
      "Income is 97.70036363636362\n"
     ]
    }
   ],
   "source": [
    "income = 50+20*4.0+0.07*110+0.01*(4.0/110)-10*(4.0/1)\n",
    "print(\"Income is\", income)"
   ]
  },
  {
   "cell_type": "code",
   "execution_count": 4,
   "id": "f61439eb-9d13-4fd5-8a06-c76a05f926b1",
   "metadata": {},
   "outputs": [],
   "source": [
    "# Question #10: Applied part"
   ]
  },
  {
   "cell_type": "code",
   "execution_count": 5,
   "id": "73d60fcc-75bd-41b5-8d52-5a0b24a3271d",
   "metadata": {},
   "outputs": [],
   "source": [
    "df = pd.read_csv('Carseats.csv')"
   ]
  },
  {
   "cell_type": "code",
   "execution_count": 6,
   "id": "8e0662b9-433e-497e-bd84-b35a98e7224f",
   "metadata": {},
   "outputs": [],
   "source": [
    "# Fitting a model as generalised linear regression.\n",
    "# Since both Urban and US are dichotomous variables, I decided to use same strategy as in reading material for Lesson 2.\n",
    "# In this exercise I am using \"formula = Sales ~ Price + Urban + US\""
   ]
  },
  {
   "cell_type": "code",
   "execution_count": 7,
   "id": "a2e45722-2511-4521-972f-a511f8d3d88a",
   "metadata": {},
   "outputs": [
    {
     "name": "stdout",
     "output_type": "stream",
     "text": [
      "                            OLS Regression Results                            \n",
      "==============================================================================\n",
      "Dep. Variable:                  Sales   R-squared:                       0.239\n",
      "Model:                            OLS   Adj. R-squared:                  0.234\n",
      "Method:                 Least Squares   F-statistic:                     41.52\n",
      "Date:                Thu, 05 Dec 2024   Prob (F-statistic):           2.39e-23\n",
      "Time:                        05:42:41   Log-Likelihood:                -927.66\n",
      "No. Observations:                 400   AIC:                             1863.\n",
      "Df Residuals:                     396   BIC:                             1879.\n",
      "Df Model:                           3                                         \n",
      "Covariance Type:            nonrobust                                         \n",
      "================================================================================\n",
      "                   coef    std err          t      P>|t|      [0.025      0.975]\n",
      "--------------------------------------------------------------------------------\n",
      "Intercept       13.0435      0.651     20.036      0.000      11.764      14.323\n",
      "Urban[T.Yes]    -0.0219      0.272     -0.081      0.936      -0.556       0.512\n",
      "US[T.Yes]        1.2006      0.259      4.635      0.000       0.691       1.710\n",
      "Price           -0.0545      0.005    -10.389      0.000      -0.065      -0.044\n",
      "==============================================================================\n",
      "Omnibus:                        0.676   Durbin-Watson:                   1.912\n",
      "Prob(Omnibus):                  0.713   Jarque-Bera (JB):                0.758\n",
      "Skew:                           0.093   Prob(JB):                        0.684\n",
      "Kurtosis:                       2.897   Cond. No.                         628.\n",
      "==============================================================================\n",
      "\n",
      "Notes:\n",
      "[1] Standard Errors assume that the covariance matrix of the errors is correctly specified.\n",
      "             df       sum_sq     mean_sq           F        PR(>F)\n",
      "Urban       1.0     0.756615    0.756615    0.123767  7.251713e-01\n",
      "US          1.0   100.846148  100.846148   16.496407  5.877444e-05\n",
      "Price       1.0   659.837263  659.837263  107.936143  1.609917e-22\n",
      "Residual  396.0  2420.834671    6.113219         NaN           NaN\n",
      "\n",
      "\n",
      "Confidence intervals\n",
      "                      0          1\n",
      "Intercept     11.763597  14.323341\n",
      "Urban[T.Yes]  -0.555973   0.512141\n",
      "US[T.Yes]      0.691304   1.709841\n",
      "Price         -0.064764  -0.044154\n"
     ]
    }
   ],
   "source": [
    "formula=\"Sales ~ Price + Urban + US\"\n",
    "mod=ols(formula,data=df)\n",
    "res=mod.fit()\n",
    "print(res.summary())\n",
    "mod2=ols(formula,data=df).fit()\n",
    "table=sm.stats.anova_lm(mod2)\n",
    "print(table)\n",
    "print(\"\\n\\nConfidence intervals\")\n",
    "print(mod2.conf_int())"
   ]
  },
  {
   "cell_type": "code",
   "execution_count": 8,
   "id": "401e0d4c-3f0f-4698-8e24-27cb5c6d5a8b",
   "metadata": {},
   "outputs": [],
   "source": [
    "# Coeficient for the \"Price\" is -0.0545 and indicates that smaller price leaads to higher sales numbers.\n",
    "# Cefisient for \"US\" is 1.2006 and indicates that it is main contribution factor in this model.\n",
    "# Coefficient for \"Urban\" is -0.0219, what indicates that it is the least contribution variable.\n",
    "# \"Sales\" and \"Price\" are numerical variables, \"Urban\" and \"US\" are dichotomous.\n",
    "# Residuals degrees of freedom is 396, model degrees of freedome is 3, 399 total, what corresponds to degrees of freedom in the dataset.\n",
    "# R-squared is 0.239 and adjusted R-squared 0.234, which is low. F-statistic is 41.52 with probability 2.39e-23.\n",
    "# Overall impression is that a better model is needed in this case.\n",
    "# If a betta for a variable is 0 variable is not contributing to the outcome. Neither of these variables have coeficient of 0 and we can reject . "
   ]
  },
  {
   "cell_type": "code",
   "execution_count": 9,
   "id": "c1f0e609-0d3a-4360-8cd9-cac7f97b30e3",
   "metadata": {},
   "outputs": [],
   "source": [
    "# I will us \"US\" and \"Price\" in a smaller model with formula \"Sales ~ Price + US\""
   ]
  },
  {
   "cell_type": "code",
   "execution_count": 10,
   "id": "f8a84f1e-b7ad-45d1-b3eb-f7c267570ec8",
   "metadata": {},
   "outputs": [
    {
     "name": "stdout",
     "output_type": "stream",
     "text": [
      "                            OLS Regression Results                            \n",
      "==============================================================================\n",
      "Dep. Variable:                  Sales   R-squared:                       0.239\n",
      "Model:                            OLS   Adj. R-squared:                  0.235\n",
      "Method:                 Least Squares   F-statistic:                     62.43\n",
      "Date:                Thu, 05 Dec 2024   Prob (F-statistic):           2.66e-24\n",
      "Time:                        05:42:41   Log-Likelihood:                -927.66\n",
      "No. Observations:                 400   AIC:                             1861.\n",
      "Df Residuals:                     397   BIC:                             1873.\n",
      "Df Model:                           2                                         \n",
      "Covariance Type:            nonrobust                                         \n",
      "==============================================================================\n",
      "                 coef    std err          t      P>|t|      [0.025      0.975]\n",
      "------------------------------------------------------------------------------\n",
      "Intercept     13.0308      0.631     20.652      0.000      11.790      14.271\n",
      "US[T.Yes]      1.1996      0.258      4.641      0.000       0.692       1.708\n",
      "Price         -0.0545      0.005    -10.416      0.000      -0.065      -0.044\n",
      "==============================================================================\n",
      "Omnibus:                        0.666   Durbin-Watson:                   1.912\n",
      "Prob(Omnibus):                  0.717   Jarque-Bera (JB):                0.749\n",
      "Skew:                           0.092   Prob(JB):                        0.688\n",
      "Kurtosis:                       2.895   Cond. No.                         607.\n",
      "==============================================================================\n",
      "\n",
      "Notes:\n",
      "[1] Standard Errors assume that the covariance matrix of the errors is correctly specified.\n",
      "             df       sum_sq     mean_sq           F        PR(>F)\n",
      "US          1.0    99.802580   99.802580   16.366658  6.273751e-05\n",
      "Price       1.0   661.597655  661.597655  108.495617  1.272157e-22\n",
      "Residual  397.0  2420.874462    6.097921         NaN           NaN\n",
      "\n",
      "\n",
      "Confidence intervals\n",
      "                  0          1\n",
      "Intercept  11.79032  14.271265\n",
      "US[T.Yes]   0.69152   1.707766\n",
      "Price      -0.06476  -0.044195\n"
     ]
    }
   ],
   "source": [
    "formula=\"Sales ~ Price + US\"\n",
    "mod=ols(formula,data=df)\n",
    "res=mod.fit()\n",
    "print(res.summary())\n",
    "mod2=ols(formula,data=df).fit()\n",
    "table=sm.stats.anova_lm(mod2)\n",
    "print(table)\n",
    "print(\"\\n\\nConfidence intervals\")\n",
    "print(mod2.conf_int())"
   ]
  },
  {
   "cell_type": "code",
   "execution_count": 11,
   "id": "15417738-be83-496f-b6da-01feb02380cb",
   "metadata": {},
   "outputs": [],
   "source": [
    "# Both models are practically the same, I excluded \"Urban\" vavriable because it is not likely to comtribute anything to the model, although, smaller model has high Log-likelihood."
   ]
  },
  {
   "cell_type": "code",
   "execution_count": 12,
   "id": "170695b5-f3ce-4452-8cdf-a02f9173749d",
   "metadata": {},
   "outputs": [
    {
     "data": {
      "text/plain": [
       "<matplotlib.collections.PathCollection at 0x1e8b6e48ef0>"
      ]
     },
     "execution_count": 12,
     "metadata": {},
     "output_type": "execute_result"
    },
    {
     "data": {
      "image/png": "[encoded data removed]",
      "text/plain": [
       "<Figure size 640x480 with 1 Axes>"
      ]
     },
     "metadata": {},
     "output_type": "display_data"
    }
   ],
   "source": [
    "# Both \"Urban\" and \"US\" are dichotomous, only \"Price\" variable is numerical\n",
    "# Visualizing prediction\n",
    "plt.pyplot.scatter(df[\"Price\"],df[\"Sales\"], label='Original model')"
   ]
  },
  {
   "cell_type": "code",
   "execution_count": 14,
   "id": "e8f24453-cd64-44d0-9b75-80e2bdfe0bce",
   "metadata": {},
   "outputs": [],
   "source": [
    "# From the plot it does not appear that dataset have any outliers or significant contributors."
   ]
  },
  {
   "cell_type": "code",
   "execution_count": null,
   "id": "32da3de9-97ff-4535-93cb-3021d6e82044",
   "metadata": {},
   "outputs": [],
   "source": []
  }
 ],
 "metadata": {
  "kernelspec": {
   "display_name": "Python 3 (ipykernel)",
   "language": "python",
   "name": "python3"
  },
  "language_info": {
   "codemirror_mode": {
    "name": "ipython",
    "version": 3
   },
   "file_extension": ".py",
   "mimetype": "text/x-python",
   "name": "python",
   "nbconvert_exporter": "python",
   "pygments_lexer": "ipython3",
   "version": "3.12.3"
  }
 },
 "nbformat": 4,
 "nbformat_minor": 5
}
