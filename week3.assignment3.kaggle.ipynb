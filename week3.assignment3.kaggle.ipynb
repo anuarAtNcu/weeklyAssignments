{
 "cells": [
  {
   "cell_type": "code",
   "execution_count": 1,
   "id": "999f05e5-4246-4ea9-8179-2b1040a3ad1c",
   "metadata": {},
   "outputs": [],
   "source": [
    "# Regression with Abalone Dataset\n",
    "# Anuar Konkashbaev\n",
    "# School of Technology & Engineering, National University\n",
    "# Course code: 7057984436\n",
    "# Professor: Dr. Yavarimanesh\n",
    "# January 16th, 2025\n",
    "#"
   ]
  },
  {
   "cell_type": "code",
   "execution_count": 2,
   "id": "e1c8f3ab-239e-497f-bb80-602e361761a6",
   "metadata": {},
   "outputs": [],
   "source": [
    "# libraries\n",
    "import pandas as pd\n",
    "import numpy as np\n",
    "import seaborn as sns\n",
    "import matplotlib.pyplot as plt\n",
    "from sklearn.model_selection import train_test_split, cross_val_score\n",
    "from sklearn.linear_model import Lasso\n",
    "from sklearn.linear_model import Ridge\n",
    "from sklearn.preprocessing import StandardScaler\n"
   ]
  },
  {
   "cell_type": "code",
   "execution_count": null,
   "id": "a961c432-babc-4219-a211-2f1fbf30b319",
   "metadata": {},
   "outputs": [],
   "source": []
  }
 ],
 "metadata": {
  "kernelspec": {
   "display_name": "Python 3 (ipykernel)",
   "language": "python",
   "name": "python3"
  },
  "language_info": {
   "codemirror_mode": {
    "name": "ipython",
    "version": 3
   },
   "file_extension": ".py",
   "mimetype": "text/x-python",
   "name": "python",
   "nbconvert_exporter": "python",
   "pygments_lexer": "ipython3",
   "version": "3.12.3"
  }
 },
 "nbformat": 4,
 "nbformat_minor": 5
}
